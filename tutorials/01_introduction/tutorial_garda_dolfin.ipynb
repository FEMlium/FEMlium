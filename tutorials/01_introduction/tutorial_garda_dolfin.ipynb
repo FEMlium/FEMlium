{
 "cells": [
  {
   "cell_type": "code",
   "execution_count": null,
   "id": "5d77b307",
   "metadata": {},
   "outputs": [],
   "source": [
    "import os\n",
    "import urllib"
   ]
  },
  {
   "cell_type": "code",
   "execution_count": null,
   "id": "simplified-lending",
   "metadata": {},
   "outputs": [],
   "source": [
    "import dolfin\n",
    "import folium\n",
    "import matplotlib.pyplot as plt\n",
    "import meshio\n",
    "import numpy as np\n",
    "import numpy.typing\n",
    "import pyproj"
   ]
  },
  {
   "cell_type": "code",
   "execution_count": null,
   "id": "8ed20b1f",
   "metadata": {},
   "outputs": [],
   "source": [
    "import femlium"
   ]
  },
  {
   "cell_type": "markdown",
   "id": "middle-angle",
   "metadata": {},
   "source": [
    "Auxiliary function to get a `folium` `Map` close to Lake Garda."
   ]
  },
  {
   "cell_type": "code",
   "execution_count": null,
   "id": "ranking-wales",
   "metadata": {},
   "outputs": [],
   "source": [
    "def get_garda_geo_map(boundary_icons: bool = False) -> folium.Map:\n",
    "    \"\"\"Get a map close to Lake Garda, and possibly add some boundary markers.\"\"\"\n",
    "    # Add map close to Lake Garda\n",
    "    geo_map = folium.Map(location=[45.6389113, 10.7521368], zoom_start=10.3)\n",
    "\n",
    "    # Add markers\n",
    "    if boundary_icons:\n",
    "        location_markers = {\n",
    "            \"Sarca\": [45.87395405, 10.87087005],\n",
    "            \"Mincio\": [45.43259035, 10.7007715]\n",
    "        }\n",
    "        location_colors = {\n",
    "            \"Sarca\": \"red\",\n",
    "            \"Mincio\": \"green\"\n",
    "        }\n",
    "\n",
    "        for key in location_markers.keys():\n",
    "            folium.Marker(\n",
    "                location=location_markers[key],\n",
    "                tooltip=key,\n",
    "                icon=folium.Icon(color=location_colors[key])\n",
    "            ).add_to(geo_map)\n",
    "\n",
    "    # Return folium map\n",
    "    return geo_map"
   ]
  },
  {
   "cell_type": "code",
   "execution_count": null,
   "id": "joint-injury",
   "metadata": {},
   "outputs": [],
   "source": [
    "get_garda_geo_map()"
   ]
  },
  {
   "cell_type": "markdown",
   "id": "acknowledged-difference",
   "metadata": {},
   "source": [
    "Read the mesh, the subdomain markers and the boundary markers from file with `dolfin`."
   ]
  },
  {
   "cell_type": "code",
   "execution_count": null,
   "id": "9f1725ae",
   "metadata": {},
   "outputs": [],
   "source": [
    "def gmsh_to_fenics(msh_path: str) -> tuple[\n",
    "        dolfin.Mesh, dolfin.cpp.mesh.MeshFunctionSizet, dolfin.cpp.mesh.MeshFunctionSizet]:\n",
    "    \"\"\"Convert a mesh from gmsh to FEniCS.\"\"\"\n",
    "    assert msh_path.endswith(\".msh\")\n",
    "    base_path = msh_path[:-4]\n",
    "\n",
    "    # Read back in the mesh with meshio\n",
    "    meshio_mesh = meshio.read(msh_path)\n",
    "\n",
    "    # Save volume mesh in xdmf format\n",
    "    mesh_xdmf_path = base_path + \"_mesh.xdmf\"\n",
    "    if os.path.exists(mesh_xdmf_path):\n",
    "        os.remove(mesh_xdmf_path)\n",
    "    if os.path.exists(mesh_xdmf_path.replace(\".xdmf\", \".h5\")):\n",
    "        os.remove(mesh_xdmf_path.replace(\".xdmf\", \".h5\"))\n",
    "    points = meshio_mesh.points[:, :2]\n",
    "    cells = meshio_mesh.cells_dict[\"triangle\"]\n",
    "    if (\"gmsh:physical\" in meshio_mesh.cell_data_dict\n",
    "            and \"triangle\" in meshio_mesh.cell_data_dict[\"gmsh:physical\"]):\n",
    "        subdomains_data = meshio_mesh.cell_data_dict[\"gmsh:physical\"][\"triangle\"]\n",
    "    else:\n",
    "        subdomains_data = np.zeros_like(cells)\n",
    "    meshio.write(\n",
    "        mesh_xdmf_path,\n",
    "        meshio.Mesh(\n",
    "            points=points,\n",
    "            cells={\"triangle\": cells},\n",
    "            cell_data={\"subdomains\": [subdomains_data]}\n",
    "        )\n",
    "    )\n",
    "\n",
    "    # Save boundary mesh in xdmf format\n",
    "    boundaries_xdmf_path = base_path + \"_boundaries.xdmf\"\n",
    "    if os.path.exists(boundaries_xdmf_path):\n",
    "        os.remove(boundaries_xdmf_path)\n",
    "    if os.path.exists(boundaries_xdmf_path.replace(\".xdmf\", \".h5\")):\n",
    "        os.remove(boundaries_xdmf_path.replace(\".xdmf\", \".h5\"))\n",
    "    facets = meshio_mesh.cells_dict[\"line\"]\n",
    "    if (\"gmsh:physical\" in meshio_mesh.cell_data_dict\n",
    "            and \"line\" in meshio_mesh.cell_data_dict[\"gmsh:physical\"]):\n",
    "        boundaries_data = meshio_mesh.cell_data_dict[\"gmsh:physical\"][\"line\"]\n",
    "    else:\n",
    "        boundaries_data = np.zeros_like(facets)\n",
    "    meshio.write(\n",
    "        boundaries_xdmf_path,\n",
    "        meshio.Mesh(\n",
    "            points=points,\n",
    "            cells={\"line\": facets},\n",
    "            cell_data={\"boundaries\": [boundaries_data]}\n",
    "        )\n",
    "    )\n",
    "\n",
    "    # Read back in the mesh with dolfin\n",
    "    mesh = dolfin.Mesh()\n",
    "    with dolfin.XDMFFile(mesh_xdmf_path) as infile:\n",
    "        infile.read(mesh)\n",
    "\n",
    "    # Read back in subdomains with dolfin\n",
    "    subdomains_mvc = dolfin.MeshValueCollection(\"size_t\", mesh, mesh.topology().dim())\n",
    "    with dolfin.XDMFFile(mesh_xdmf_path) as infile:\n",
    "        infile.read(subdomains_mvc, \"subdomains\")\n",
    "    subdomains = dolfin.cpp.mesh.MeshFunctionSizet(mesh, subdomains_mvc)\n",
    "\n",
    "    # Clean up mesh file\n",
    "    os.remove(mesh_xdmf_path)\n",
    "    os.remove(mesh_xdmf_path.replace(\".xdmf\", \".h5\"))\n",
    "\n",
    "    # Read back in boundaries with dolfin, and explicitly set to 0 any facet\n",
    "    # which had not been marked by gmsh\n",
    "    boundaries_mvc = dolfin.MeshValueCollection(\"size_t\", mesh, mesh.topology().dim() - 1)\n",
    "    with dolfin.XDMFFile(boundaries_xdmf_path) as infile:\n",
    "        infile.read(boundaries_mvc, \"boundaries\")\n",
    "    boundaries_mvc_dict = boundaries_mvc.values()\n",
    "    for c in dolfin.cells(mesh):\n",
    "        for f, _ in enumerate(dolfin.facets(c)):\n",
    "            if (c.index(), f) not in boundaries_mvc_dict:\n",
    "                boundaries_mvc.set_value(c.index(), f, 0)\n",
    "    boundaries = dolfin.cpp.mesh.MeshFunctionSizet(mesh, boundaries_mvc)\n",
    "\n",
    "    # Clean up boundary mesh file\n",
    "    os.remove(boundaries_xdmf_path)\n",
    "    os.remove(boundaries_xdmf_path.replace(\".xdmf\", \".h5\"))\n",
    "    return mesh, subdomains, boundaries"
   ]
  },
  {
   "cell_type": "code",
   "execution_count": null,
   "id": "890ab6a3-5f60-4808-8bf5-0652fb35a358",
   "metadata": {},
   "outputs": [],
   "source": [
    "msh_filename = \"data/garda.msh\"\n",
    "if not os.path.isfile(msh_filename):\n",
    "    os.makedirs(\"data\", exist_ok=True)\n",
    "    msh_url = (\n",
    "        \"https://raw.githubusercontent.com/FEMlium/FEMlium/main/\"\n",
    "        \"tutorials/01_introduction/data/garda.msh\")\n",
    "    with urllib.request.urlopen(msh_url) as response, open(msh_filename, \"wb\") as msh_file:\n",
    "        msh_file.write(response.read())"
   ]
  },
  {
   "cell_type": "code",
   "execution_count": null,
   "id": "behind-grill",
   "metadata": {},
   "outputs": [],
   "source": [
    "mesh, subdomains, boundaries = gmsh_to_fenics(\"data/garda.msh\")"
   ]
  },
  {
   "cell_type": "markdown",
   "id": "divine-blackjack",
   "metadata": {},
   "source": [
    "Plot the mesh using `dolfin.plot`."
   ]
  },
  {
   "cell_type": "code",
   "execution_count": null,
   "id": "enhanced-brake",
   "metadata": {},
   "outputs": [],
   "source": [
    "fig = plt.figure(figsize=(12, 12))\n",
    "dolfin.plot(mesh)\n",
    "fig.gca().axis(\"equal\")"
   ]
  },
  {
   "cell_type": "markdown",
   "id": "robust-broadway",
   "metadata": {},
   "source": [
    "Define a `pyproj` `Transformer` to map between different reference systems, because the points read from file are stored a $(x, y)$ pairs in the EPSG32632 reference system, while the map produced by `folium` is based on (latitude, longitude) pairs in the EPSG4326 reference system."
   ]
  },
  {
   "cell_type": "code",
   "execution_count": null,
   "id": "frozen-archives",
   "metadata": {},
   "outputs": [],
   "source": [
    "transformer = pyproj.Transformer.from_crs(\"epsg:32632\", \"epsg:4326\", always_xy=True)"
   ]
  },
  {
   "cell_type": "markdown",
   "id": "rental-consequence",
   "metadata": {},
   "source": [
    "We define a mesh plotter for meshes in `dolfin` format, which is implemented in `femlium.DolfinPlotter`."
   ]
  },
  {
   "cell_type": "code",
   "execution_count": null,
   "id": "norman-ethernet",
   "metadata": {},
   "outputs": [],
   "source": [
    "dolfin_plotter = femlium.DolfinPlotter(transformer)"
   ]
  },
  {
   "cell_type": "markdown",
   "id": "received-headset",
   "metadata": {},
   "source": [
    "We use the `dolfin_plotter` to draw the mesh on top of the geographic map."
   ]
  },
  {
   "cell_type": "code",
   "execution_count": null,
   "id": "sunset-communications",
   "metadata": {},
   "outputs": [],
   "source": [
    "geo_map = get_garda_geo_map()\n",
    "dolfin_plotter.add_mesh_to(geo_map, mesh)\n",
    "geo_map"
   ]
  },
  {
   "cell_type": "markdown",
   "id": "induced-making",
   "metadata": {},
   "source": [
    "We may change the color and the weight of the line."
   ]
  },
  {
   "cell_type": "code",
   "execution_count": null,
   "id": "parallel-martial",
   "metadata": {},
   "outputs": [],
   "source": [
    "geo_map = get_garda_geo_map()\n",
    "dolfin_plotter.add_mesh_to(geo_map, mesh, face_colors=\"red\", face_weights=2)\n",
    "geo_map"
   ]
  },
  {
   "cell_type": "markdown",
   "id": "stunning-relation",
   "metadata": {},
   "source": [
    "Furthermore, we may set the colors and the weights of the face representation to depend on the markers associated to each segment."
   ]
  },
  {
   "cell_type": "code",
   "execution_count": null,
   "id": "three-macedonia",
   "metadata": {},
   "outputs": [],
   "source": [
    "geo_map = get_garda_geo_map(boundary_icons=True)\n",
    "face_colors = {\n",
    "    0: \"gray\",\n",
    "    1: \"blue\",\n",
    "    2: \"red\",\n",
    "    3: \"green\"\n",
    "}\n",
    "face_weights = {\n",
    "    0: 1,\n",
    "    1: 2,\n",
    "    2: 5,\n",
    "    3: 5\n",
    "}\n",
    "dolfin_plotter.add_mesh_to(\n",
    "    geo_map, mesh, face_mesh_function=boundaries, face_colors=face_colors, face_weights=face_weights)\n",
    "geo_map"
   ]
  },
  {
   "cell_type": "markdown",
   "id": "willing-airline",
   "metadata": {},
   "source": [
    "Cells can be colored as well, with a uniform color or depending on the cell markers. We start from a uniform color."
   ]
  },
  {
   "cell_type": "code",
   "execution_count": null,
   "id": "south-palestine",
   "metadata": {},
   "outputs": [],
   "source": [
    "geo_map = get_garda_geo_map()\n",
    "dolfin_plotter.add_mesh_to(geo_map, mesh, cell_colors=\"orange\")\n",
    "geo_map"
   ]
  },
  {
   "cell_type": "markdown",
   "id": "adolescent-account",
   "metadata": {},
   "source": [
    "We also show the case of colors being set from cell markers. There are two cell markers in this mesh, equal to 1 for the region close to the shoreline (colored in purple) and 2 for the rest of the domain (colored in yellow)."
   ]
  },
  {
   "cell_type": "code",
   "execution_count": null,
   "id": "southwest-american",
   "metadata": {},
   "outputs": [],
   "source": [
    "geo_map = get_garda_geo_map()\n",
    "cell_colors = {\n",
    "    1: \"purple\",\n",
    "    2: \"yellow\"\n",
    "}\n",
    "dolfin_plotter.add_mesh_to(geo_map, mesh, cell_mesh_function=subdomains, cell_colors=cell_colors)\n",
    "geo_map"
   ]
  },
  {
   "cell_type": "markdown",
   "id": "chicken-harmony",
   "metadata": {},
   "source": [
    "Once can use colors associated to both cell and face markers on the same plot. "
   ]
  },
  {
   "cell_type": "code",
   "execution_count": null,
   "id": "bright-guess",
   "metadata": {},
   "outputs": [],
   "source": [
    "geo_map = get_garda_geo_map(boundary_icons=True)\n",
    "dolfin_plotter.add_mesh_to(\n",
    "    geo_map, mesh,\n",
    "    cell_mesh_function=subdomains, face_mesh_function=boundaries,\n",
    "    cell_colors=cell_colors, face_colors=face_colors, face_weights=face_weights)\n",
    "geo_map"
   ]
  },
  {
   "cell_type": "markdown",
   "id": "subsequent-lecture",
   "metadata": {},
   "source": [
    "In order to define a simple scalar field, we compute the centroid of the domain."
   ]
  },
  {
   "cell_type": "code",
   "execution_count": null,
   "id": "level-paste",
   "metadata": {},
   "outputs": [],
   "source": [
    "centroid = np.mean(mesh.coordinates(), axis=0)"
   ]
  },
  {
   "cell_type": "markdown",
   "id": "static-inventory",
   "metadata": {},
   "source": [
    "We may plot the centroid on top of the mesh."
   ]
  },
  {
   "cell_type": "code",
   "execution_count": null,
   "id": "portuguese-bidding",
   "metadata": {},
   "outputs": [],
   "source": [
    "geo_map = get_garda_geo_map()\n",
    "dolfin_plotter.add_mesh_to(geo_map, mesh)\n",
    "folium.Marker(location=transformer.transform(*centroid)[::-1], tooltip=\"Centroid\").add_to(geo_map)\n",
    "geo_map"
   ]
  },
  {
   "cell_type": "markdown",
   "id": "smooth-coalition",
   "metadata": {},
   "source": [
    "The scalar field is defined as $s(\\rho, \\theta) = \\frac{\\rho}{\\sqrt{1 - 0.5 \\cos^2 \\theta}}$, and is interpolated on a $\\mathbb{P}^2$ finite element space. Here $(\\rho, \\theta)$ are the polar coordinates centered at the centroid."
   ]
  },
  {
   "cell_type": "code",
   "execution_count": null,
   "id": "fossil-queen",
   "metadata": {},
   "outputs": [],
   "source": [
    "scalar_function_space = dolfin.FunctionSpace(mesh, \"CG\", 2)"
   ]
  },
  {
   "cell_type": "code",
   "execution_count": null,
   "id": "contained-shock",
   "metadata": {},
   "outputs": [],
   "source": [
    "class ScalarField(dolfin.UserExpression):\n",
    "    \"\"\"Expression of the scalar field.\"\"\"\n",
    "\n",
    "    def eval_cell(\n",
    "        self, value: np.typing.NDArray[np.float64], x: np.typing.NDArray[np.float64], cell: int\n",
    "    ) -> None:\n",
    "        \"\"\"Evaulate the expression.\"\"\"\n",
    "        rho = np.sqrt((x[0] - centroid[0])**2 + (x[1] - centroid[1])**2)\n",
    "        theta = np.arctan2(x[1] - centroid[1], x[0] - centroid[0])\n",
    "        value[0] = rho / np.sqrt(1 - 0.5 * np.cos(theta)**2)\n",
    "\n",
    "    def value_shape(self) -> tuple[int]:\n",
    "        \"\"\"Shape of a scalar expression.\"\"\"\n",
    "        return ()"
   ]
  },
  {
   "cell_type": "code",
   "execution_count": null,
   "id": "victorian-details",
   "metadata": {},
   "outputs": [],
   "source": [
    "scalar_field = dolfin.interpolate(ScalarField(), scalar_function_space)"
   ]
  },
  {
   "cell_type": "markdown",
   "id": "cubic-clinton",
   "metadata": {},
   "source": [
    "We next show a filled contour plot with 15 levels using `dolfin.plot`."
   ]
  },
  {
   "cell_type": "code",
   "execution_count": null,
   "id": "requested-somerset",
   "metadata": {},
   "outputs": [],
   "source": [
    "fig = plt.figure(figsize=(12, 12))\n",
    "trif = dolfin.plot(scalar_field, mode=\"contourf\", levels=15, cmap=\"jet\")\n",
    "fig.colorbar(trif)\n",
    "fig.gca().axis(\"equal\")"
   ]
  },
  {
   "cell_type": "markdown",
   "id": "alleged-cholesterol",
   "metadata": {},
   "source": [
    "In order to plot a field on a geographic map, we use again the `dolfin_plotter`. We may plot the same filled contour plot on the geographic map."
   ]
  },
  {
   "cell_type": "code",
   "execution_count": null,
   "id": "outdoor-rover",
   "metadata": {},
   "outputs": [],
   "source": [
    "geo_map = get_garda_geo_map()\n",
    "dolfin_plotter.add_scalar_field_to(geo_map, scalar_field, mode=\"contourf\", levels=15, cmap=\"jet\")\n",
    "geo_map"
   ]
  },
  {
   "cell_type": "markdown",
   "id": "comic-noise",
   "metadata": {},
   "source": [
    "Similarly, we can also use (unfilled) contour plots."
   ]
  },
  {
   "cell_type": "code",
   "execution_count": null,
   "id": "appropriate-queensland",
   "metadata": {},
   "outputs": [],
   "source": [
    "fig = plt.figure(figsize=(12, 12))\n",
    "tri = dolfin.plot(scalar_field, mode=\"contour\", levels=15, cmap=\"jet\")\n",
    "fig.colorbar(tri)\n",
    "fig.gca().axis(\"equal\")"
   ]
  },
  {
   "cell_type": "code",
   "execution_count": null,
   "id": "played-buffer",
   "metadata": {},
   "outputs": [],
   "source": [
    "geo_map = get_garda_geo_map()\n",
    "dolfin_plotter.add_scalar_field_to(geo_map, scalar_field, mode=\"contour\", levels=15, cmap=\"jet\")\n",
    "geo_map"
   ]
  },
  {
   "cell_type": "markdown",
   "id": "bronze-biodiversity",
   "metadata": {},
   "source": [
    "One may also combine mesh plots and solution plots."
   ]
  },
  {
   "cell_type": "code",
   "execution_count": null,
   "id": "yellow-permit",
   "metadata": {},
   "outputs": [],
   "source": [
    "geo_map = get_garda_geo_map()\n",
    "dolfin_plotter.add_mesh_to(geo_map, mesh, face_colors=\"grey\")\n",
    "dolfin_plotter.add_scalar_field_to(geo_map, scalar_field, mode=\"contour\", levels=15, cmap=\"jet\")\n",
    "geo_map"
   ]
  },
  {
   "cell_type": "markdown",
   "id": "danish-proportion",
   "metadata": {},
   "source": [
    "We next define a vector field $\\mathbf{v}(\\rho, \\theta) = \\begin{bmatrix}-\\rho \\sin \\theta\\\\\\rho \\cos\\theta \\end{bmatrix}$."
   ]
  },
  {
   "cell_type": "code",
   "execution_count": null,
   "id": "positive-austin",
   "metadata": {},
   "outputs": [],
   "source": [
    "vector_function_space = dolfin.VectorFunctionSpace(mesh, \"CG\", 2)"
   ]
  },
  {
   "cell_type": "code",
   "execution_count": null,
   "id": "indie-discretion",
   "metadata": {},
   "outputs": [],
   "source": [
    "class VectorField(dolfin.UserExpression):\n",
    "    \"\"\"Expression of the vector field.\"\"\"\n",
    "\n",
    "    def eval_cell(\n",
    "        self, value: np.typing.NDArray[np.float64], x: np.typing.NDArray[np.float64], cell: int\n",
    "    ) -> None:\n",
    "        \"\"\"Evaulate the expression.\"\"\"\n",
    "        rho = np.sqrt((x[0] - centroid[0])**2 + (x[1] - centroid[1])**2)\n",
    "        theta = np.arctan2(x[1] - centroid[1], x[0] - centroid[0])\n",
    "        value[0] = - rho * np.sin(theta)\n",
    "        value[1] = rho * np.cos(theta)\n",
    "\n",
    "    def value_shape(self) -> tuple[int]:\n",
    "        \"\"\"Shape of a vector expression.\"\"\"\n",
    "        return (2, )"
   ]
  },
  {
   "cell_type": "code",
   "execution_count": null,
   "id": "large-riding",
   "metadata": {},
   "outputs": [],
   "source": [
    "vector_field = dolfin.interpolate(VectorField(), vector_function_space)"
   ]
  },
  {
   "cell_type": "markdown",
   "id": "married-virtue",
   "metadata": {},
   "source": [
    "We may obtain contourf or contour plots of the magnitude of the vector field."
   ]
  },
  {
   "cell_type": "code",
   "execution_count": null,
   "id": "oriental-edinburgh",
   "metadata": {},
   "outputs": [],
   "source": [
    "geo_map = get_garda_geo_map()\n",
    "dolfin_plotter.add_vector_field_to(geo_map, vector_field, mode=\"contourf\", levels=15, cmap=\"jet\")\n",
    "geo_map"
   ]
  },
  {
   "cell_type": "code",
   "execution_count": null,
   "id": "rolled-asthma",
   "metadata": {},
   "outputs": [],
   "source": [
    "geo_map = get_garda_geo_map()\n",
    "dolfin_plotter.add_vector_field_to(geo_map, vector_field, mode=\"contour\", levels=15, cmap=\"jet\")\n",
    "geo_map"
   ]
  },
  {
   "cell_type": "markdown",
   "id": "international-letters",
   "metadata": {},
   "source": [
    "Vector field can also be plotted using a quiver. We first see the quiver plot obtained with `dolfin.plot`."
   ]
  },
  {
   "cell_type": "code",
   "execution_count": null,
   "id": "convenient-hopkins",
   "metadata": {},
   "outputs": [],
   "source": [
    "fig = plt.figure(figsize=(12, 12))\n",
    "quiv = dolfin.plot(vector_field, mode=\"glyphs\", cmap=\"jet\")\n",
    "fig.colorbar(quiv)\n",
    "fig.gca().axis(\"equal\")"
   ]
  },
  {
   "cell_type": "markdown",
   "id": "sunset-print",
   "metadata": {},
   "source": [
    "A similar plot can rendered on top of the geographic map."
   ]
  },
  {
   "cell_type": "code",
   "execution_count": null,
   "id": "pursuant-restaurant",
   "metadata": {},
   "outputs": [],
   "source": [
    "geo_map = get_garda_geo_map()\n",
    "dolfin_plotter.add_vector_field_to(geo_map, vector_field, mode=\"quiver\", scale=1e-1, cmap=\"jet\")\n",
    "geo_map"
   ]
  }
 ],
 "metadata": {
  "kernelspec": {
   "display_name": "Python 3 (ipykernel)",
   "language": "python",
   "name": "python3"
  },
  "language_info": {
   "codemirror_mode": {
    "name": "ipython"
   },
   "file_extension": ".py",
   "mimetype": "text/x-python",
   "name": "python",
   "nbconvert_exporter": "python"
  }
 },
 "nbformat": 4,
 "nbformat_minor": 5
}
