{
 "cells": [
  {
   "cell_type": "code",
   "execution_count": null,
   "id": "simplified-lending",
   "metadata": {},
   "outputs": [],
   "source": [
    "import firedrake\n",
    "import folium\n",
    "import matplotlib.pyplot as plt\n",
    "import numpy as np\n",
    "import pyproj\n",
    "import ufl"
   ]
  },
  {
   "cell_type": "code",
   "execution_count": null,
   "id": "8fa5249e",
   "metadata": {},
   "outputs": [],
   "source": [
    "import femlium"
   ]
  },
  {
   "cell_type": "markdown",
   "id": "middle-angle",
   "metadata": {},
   "source": [
    "Auxiliary function to get a `folium` `Map` close to Lake Garda."
   ]
  },
  {
   "cell_type": "code",
   "execution_count": null,
   "id": "ranking-wales",
   "metadata": {},
   "outputs": [],
   "source": [
    "def get_garda_geo_map(boundary_icons: bool = False) -> folium.Map:\n",
    "    \"\"\"Get a map close to Lake Garda, and possibly add some boundary markers.\"\"\"\n",
    "    # Add map close to Lake Garda\n",
    "    geo_map = folium.Map(location=[45.6389113, 10.7521368], zoom_start=10.3)\n",
    "\n",
    "    # Add markers\n",
    "    if boundary_icons:\n",
    "        location_markers = {\n",
    "            \"Sarca\": [45.87395405, 10.87087005],\n",
    "            \"Mincio\": [45.43259035, 10.7007715]\n",
    "        }\n",
    "        location_colors = {\n",
    "            \"Sarca\": \"red\",\n",
    "            \"Mincio\": \"green\"\n",
    "        }\n",
    "\n",
    "        for key in location_markers.keys():\n",
    "            folium.Marker(\n",
    "                location=location_markers[key],\n",
    "                tooltip=key,\n",
    "                icon=folium.Icon(color=location_colors[key])\n",
    "            ).add_to(geo_map)\n",
    "\n",
    "    # Return folium map\n",
    "    return geo_map"
   ]
  },
  {
   "cell_type": "code",
   "execution_count": null,
   "id": "joint-injury",
   "metadata": {},
   "outputs": [],
   "source": [
    "get_garda_geo_map()"
   ]
  },
  {
   "cell_type": "markdown",
   "id": "acknowledged-difference",
   "metadata": {},
   "source": [
    "Read the mesh from file with `firedrake`."
   ]
  },
  {
   "cell_type": "code",
   "execution_count": null,
   "id": "behind-grill",
   "metadata": {},
   "outputs": [],
   "source": [
    "mesh = firedrake.Mesh(\"data/garda.msh\")"
   ]
  },
  {
   "cell_type": "markdown",
   "id": "divine-blackjack",
   "metadata": {},
   "source": [
    "Plot the mesh using `firedrake.triplot`."
   ]
  },
  {
   "cell_type": "code",
   "execution_count": null,
   "id": "enhanced-brake",
   "metadata": {},
   "outputs": [],
   "source": [
    "fig = plt.figure(figsize=(12, 12))\n",
    "firedrake.triplot(mesh, axes=fig.gca())\n",
    "fig.gca().axis(\"equal\")"
   ]
  },
  {
   "cell_type": "markdown",
   "id": "robust-broadway",
   "metadata": {},
   "source": [
    "Define a `pyproj` `Transformer` to map between different reference systems, because the points read from file are stored a $(x, y)$ pairs in the EPSG32632 reference system, while the map produced by `folium` is based on (latitude, longitude) pairs in the EPSG4326 reference system."
   ]
  },
  {
   "cell_type": "code",
   "execution_count": null,
   "id": "frozen-archives",
   "metadata": {},
   "outputs": [],
   "source": [
    "transformer = pyproj.Transformer.from_crs(\"epsg:32632\", \"epsg:4326\", always_xy=True)"
   ]
  },
  {
   "cell_type": "markdown",
   "id": "rental-consequence",
   "metadata": {},
   "source": [
    "We define a mesh plotter for meshes in `firedrake` format, which is implemented in `femlium.FiredrakePlotter`."
   ]
  },
  {
   "cell_type": "code",
   "execution_count": null,
   "id": "norman-ethernet",
   "metadata": {},
   "outputs": [],
   "source": [
    "firedrake_plotter = femlium.FiredrakePlotter(transformer)"
   ]
  },
  {
   "cell_type": "markdown",
   "id": "received-headset",
   "metadata": {},
   "source": [
    "We use the `firedrake_plotter` to draw the mesh on top of the geographic map."
   ]
  },
  {
   "cell_type": "code",
   "execution_count": null,
   "id": "sunset-communications",
   "metadata": {},
   "outputs": [],
   "source": [
    "geo_map = get_garda_geo_map()\n",
    "firedrake_plotter.add_mesh_to(geo_map, mesh)\n",
    "geo_map"
   ]
  },
  {
   "cell_type": "markdown",
   "id": "induced-making",
   "metadata": {},
   "source": [
    "We may change the color and the weight of the line."
   ]
  },
  {
   "cell_type": "code",
   "execution_count": null,
   "id": "parallel-martial",
   "metadata": {},
   "outputs": [],
   "source": [
    "geo_map = get_garda_geo_map()\n",
    "firedrake_plotter.add_mesh_to(geo_map, mesh, face_colors=\"red\", face_weights=2)\n",
    "geo_map"
   ]
  },
  {
   "cell_type": "markdown",
   "id": "stunning-relation",
   "metadata": {},
   "source": [
    "Furthermore, we may set the colors and the weights of the face representation to depend on the markers associated to each segment."
   ]
  },
  {
   "cell_type": "code",
   "execution_count": null,
   "id": "three-macedonia",
   "metadata": {},
   "outputs": [],
   "source": [
    "geo_map = get_garda_geo_map(boundary_icons=True)\n",
    "face_colors = {\n",
    "    0: \"gray\",\n",
    "    1: \"blue\",\n",
    "    2: \"red\",\n",
    "    3: \"green\"\n",
    "}\n",
    "face_weights = {\n",
    "    0: 1,\n",
    "    1: 2,\n",
    "    2: 5,\n",
    "    3: 5\n",
    "}\n",
    "firedrake_plotter.add_mesh_to(geo_map, mesh, face_colors=face_colors, face_weights=face_weights)\n",
    "geo_map"
   ]
  },
  {
   "cell_type": "markdown",
   "id": "willing-airline",
   "metadata": {},
   "source": [
    "Cells can be colored as well, with a uniform color or depending on the cell markers. We start from a uniform color."
   ]
  },
  {
   "cell_type": "code",
   "execution_count": null,
   "id": "south-palestine",
   "metadata": {},
   "outputs": [],
   "source": [
    "geo_map = get_garda_geo_map()\n",
    "firedrake_plotter.add_mesh_to(geo_map, mesh, cell_colors=\"orange\")\n",
    "geo_map"
   ]
  },
  {
   "cell_type": "markdown",
   "id": "adolescent-account",
   "metadata": {},
   "source": [
    "We also show the case of colors being set from cell markers. There are two cell markers in this mesh, equal to 1 for the region close to the shoreline (colored in purple) and 2 for the rest of the domain (colored in yellow)."
   ]
  },
  {
   "cell_type": "code",
   "execution_count": null,
   "id": "southwest-american",
   "metadata": {},
   "outputs": [],
   "source": [
    "geo_map = get_garda_geo_map()\n",
    "cell_colors = {\n",
    "    1: \"purple\",\n",
    "    2: \"yellow\"\n",
    "}\n",
    "firedrake_plotter.add_mesh_to(geo_map, mesh, cell_colors=cell_colors)\n",
    "geo_map"
   ]
  },
  {
   "cell_type": "markdown",
   "id": "chicken-harmony",
   "metadata": {},
   "source": [
    "Once can use colors associated to both cell and face markers on the same plot. "
   ]
  },
  {
   "cell_type": "code",
   "execution_count": null,
   "id": "bright-guess",
   "metadata": {},
   "outputs": [],
   "source": [
    "geo_map = get_garda_geo_map(boundary_icons=True)\n",
    "firedrake_plotter.add_mesh_to(\n",
    "    geo_map, mesh,\n",
    "    cell_colors=cell_colors, face_colors=face_colors, face_weights=face_weights)\n",
    "geo_map"
   ]
  },
  {
   "cell_type": "markdown",
   "id": "subsequent-lecture",
   "metadata": {},
   "source": [
    "In order to define a simple scalar field, we compute the centroid of the domain."
   ]
  },
  {
   "cell_type": "code",
   "execution_count": null,
   "id": "level-paste",
   "metadata": {},
   "outputs": [],
   "source": [
    "centroid = np.mean(mesh.coordinates.dat.data_ro, axis=0)"
   ]
  },
  {
   "cell_type": "markdown",
   "id": "static-inventory",
   "metadata": {},
   "source": [
    "We may plot the centroid on top of the mesh."
   ]
  },
  {
   "cell_type": "code",
   "execution_count": null,
   "id": "portuguese-bidding",
   "metadata": {},
   "outputs": [],
   "source": [
    "geo_map = get_garda_geo_map()\n",
    "firedrake_plotter.add_mesh_to(geo_map, mesh)\n",
    "folium.Marker(location=transformer.transform(*centroid)[::-1], tooltip=\"Centroid\").add_to(geo_map)\n",
    "geo_map"
   ]
  },
  {
   "cell_type": "markdown",
   "id": "smooth-coalition",
   "metadata": {},
   "source": [
    "The scalar field is defined as $s(\\rho, \\theta) = \\frac{\\rho}{\\sqrt{1 - 0.5 \\cos^2 \\theta}}$, and is interpolated on a $\\mathbb{P}^2$ finite element space. Here $(\\rho, \\theta)$ are the polar coordinates centered at the centroid."
   ]
  },
  {
   "cell_type": "code",
   "execution_count": null,
   "id": "fossil-queen",
   "metadata": {},
   "outputs": [],
   "source": [
    "scalar_function_space = firedrake.FunctionSpace(mesh, \"CG\", 2)"
   ]
  },
  {
   "cell_type": "code",
   "execution_count": null,
   "id": "contained-shock",
   "metadata": {},
   "outputs": [],
   "source": [
    "x = ufl.SpatialCoordinate(mesh)\n",
    "rho = ufl.sqrt((x[0] - centroid[0])**2 + (x[1] - centroid[1])**2)\n",
    "theta = ufl.atan_2(x[1] - centroid[1], x[0] - centroid[0])\n",
    "scalar_field = firedrake.interpolate(rho / ufl.sqrt(1 - 0.5 * ufl.cos(theta)**2), scalar_function_space)"
   ]
  },
  {
   "cell_type": "markdown",
   "id": "cubic-clinton",
   "metadata": {},
   "source": [
    "We next show a filled contour plot with 15 levels using `firedrake.tricontourf`."
   ]
  },
  {
   "cell_type": "code",
   "execution_count": null,
   "id": "requested-somerset",
   "metadata": {},
   "outputs": [],
   "source": [
    "fig = plt.figure(figsize=(12, 12))\n",
    "trif = firedrake.tricontourf(scalar_field, axes=fig.gca(), levels=15, cmap=\"jet\")\n",
    "fig.colorbar(trif)\n",
    "fig.gca().axis(\"equal\")"
   ]
  },
  {
   "cell_type": "markdown",
   "id": "alleged-cholesterol",
   "metadata": {},
   "source": [
    "In order to plot a field on a geographic map, we use again the `firedrake_plotter`. We may plot the same filled contour plot on the geographic map."
   ]
  },
  {
   "cell_type": "code",
   "execution_count": null,
   "id": "outdoor-rover",
   "metadata": {},
   "outputs": [],
   "source": [
    "geo_map = get_garda_geo_map()\n",
    "firedrake_plotter.add_scalar_field_to(geo_map, scalar_field, mode=\"contourf\", levels=15, cmap=\"jet\")\n",
    "geo_map"
   ]
  },
  {
   "cell_type": "markdown",
   "id": "comic-noise",
   "metadata": {},
   "source": [
    "Similarly, we can also use (unfilled) contour plots."
   ]
  },
  {
   "cell_type": "code",
   "execution_count": null,
   "id": "appropriate-queensland",
   "metadata": {},
   "outputs": [],
   "source": [
    "fig = plt.figure(figsize=(12, 12))\n",
    "tri = firedrake.tricontour(scalar_field, axes=fig.gca(), levels=15, cmap=\"jet\")\n",
    "fig.colorbar(tri)\n",
    "fig.gca().axis(\"equal\")"
   ]
  },
  {
   "cell_type": "code",
   "execution_count": null,
   "id": "played-buffer",
   "metadata": {},
   "outputs": [],
   "source": [
    "geo_map = get_garda_geo_map()\n",
    "firedrake_plotter.add_scalar_field_to(geo_map, scalar_field, mode=\"contour\", levels=15, cmap=\"jet\")\n",
    "geo_map"
   ]
  },
  {
   "cell_type": "markdown",
   "id": "bronze-biodiversity",
   "metadata": {},
   "source": [
    "One may also combine mesh plots and solution plots."
   ]
  },
  {
   "cell_type": "code",
   "execution_count": null,
   "id": "yellow-permit",
   "metadata": {},
   "outputs": [],
   "source": [
    "geo_map = get_garda_geo_map()\n",
    "firedrake_plotter.add_mesh_to(geo_map, mesh, face_colors=\"grey\")\n",
    "firedrake_plotter.add_scalar_field_to(geo_map, scalar_field, mode=\"contour\", levels=15, cmap=\"jet\")\n",
    "geo_map"
   ]
  },
  {
   "cell_type": "markdown",
   "id": "danish-proportion",
   "metadata": {},
   "source": [
    "We next define a vector field $\\mathbf{v}(\\rho, \\theta) = \\begin{bmatrix}-\\rho \\sin \\theta\\\\\\rho \\cos\\theta \\end{bmatrix}$."
   ]
  },
  {
   "cell_type": "code",
   "execution_count": null,
   "id": "positive-austin",
   "metadata": {},
   "outputs": [],
   "source": [
    "vector_function_space = firedrake.VectorFunctionSpace(mesh, \"CG\", 2)"
   ]
  },
  {
   "cell_type": "code",
   "execution_count": null,
   "id": "indie-discretion",
   "metadata": {},
   "outputs": [],
   "source": [
    "vector_field = firedrake.interpolate(\n",
    "    ufl.as_vector((- rho * ufl.sin(theta), rho * ufl.cos(theta))), vector_function_space)"
   ]
  },
  {
   "cell_type": "markdown",
   "id": "married-virtue",
   "metadata": {},
   "source": [
    "We may obtain contourf or contour plots of the magnitude of the vector field."
   ]
  },
  {
   "cell_type": "code",
   "execution_count": null,
   "id": "oriental-edinburgh",
   "metadata": {},
   "outputs": [],
   "source": [
    "geo_map = get_garda_geo_map()\n",
    "firedrake_plotter.add_vector_field_to(geo_map, vector_field, mode=\"contourf\", levels=15, cmap=\"jet\")\n",
    "geo_map"
   ]
  },
  {
   "cell_type": "code",
   "execution_count": null,
   "id": "rolled-asthma",
   "metadata": {},
   "outputs": [],
   "source": [
    "geo_map = get_garda_geo_map()\n",
    "firedrake_plotter.add_vector_field_to(geo_map, vector_field, mode=\"contour\", levels=15, cmap=\"jet\")\n",
    "geo_map"
   ]
  },
  {
   "cell_type": "markdown",
   "id": "international-letters",
   "metadata": {},
   "source": [
    "Vector field can also be plotted using a quiver. We first see the quiver plot obtained with `firedrake.quiver`."
   ]
  },
  {
   "cell_type": "code",
   "execution_count": null,
   "id": "convenient-hopkins",
   "metadata": {},
   "outputs": [],
   "source": [
    "fig = plt.figure(figsize=(12, 12))\n",
    "quiv = firedrake.quiver(vector_field, axes=fig.gca(), cmap=\"jet\")\n",
    "fig.colorbar(quiv)\n",
    "fig.gca().axis(\"equal\")"
   ]
  },
  {
   "cell_type": "markdown",
   "id": "sunset-print",
   "metadata": {},
   "source": [
    "A similar plot can rendered on top of the geographic map."
   ]
  },
  {
   "cell_type": "code",
   "execution_count": null,
   "id": "pursuant-restaurant",
   "metadata": {},
   "outputs": [],
   "source": [
    "geo_map = get_garda_geo_map()\n",
    "firedrake_plotter.add_vector_field_to(geo_map, vector_field, mode=\"quiver\", scale=1e-1, cmap=\"jet\")\n",
    "geo_map"
   ]
  }
 ],
 "metadata": {
  "kernelspec": {
   "display_name": "Python 3 (ipykernel)",
   "language": "python",
   "name": "python3"
  },
  "language_info": {
   "codemirror_mode": {
    "name": "ipython"
   },
   "file_extension": ".py",
   "mimetype": "text/x-python",
   "name": "python",
   "nbconvert_exporter": "python"
  }
 },
 "nbformat": 4,
 "nbformat_minor": 5
}
