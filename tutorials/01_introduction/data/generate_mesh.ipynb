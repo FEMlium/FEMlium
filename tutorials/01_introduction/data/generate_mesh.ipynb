{
 "cells": [
  {
   "cell_type": "code",
   "execution_count": null,
   "id": "45b0e96d",
   "metadata": {},
   "outputs": [],
   "source": [
    "import os\n",
    "import urllib"
   ]
  },
  {
   "cell_type": "code",
   "execution_count": null,
   "id": "focal-progressive",
   "metadata": {},
   "outputs": [],
   "source": [
    "import folium\n",
    "import gmsh\n",
    "import matplotlib.pyplot as plt\n",
    "import numpy as np\n",
    "import numpy.typing as npt\n",
    "import pyproj"
   ]
  },
  {
   "cell_type": "code",
   "execution_count": null,
   "id": "f7f98e07",
   "metadata": {},
   "outputs": [],
   "source": [
    "import femlium"
   ]
  },
  {
   "cell_type": "markdown",
   "id": "identical-theta",
   "metadata": {},
   "source": [
    "Auxiliary function to get a `folium` `Map` close to Lake Garda."
   ]
  },
  {
   "cell_type": "code",
   "execution_count": null,
   "id": "minus-blend",
   "metadata": {},
   "outputs": [],
   "source": [
    "def get_garda_geo_map(boundary_icons: bool = False) -> folium.Map:\n",
    "    \"\"\"Get a map close to Lake Garda, and possibly add some boundary markers.\"\"\"\n",
    "    # Add map close to Lake Garda\n",
    "    geo_map = folium.Map(location=[45.6389113, 10.7521368], zoom_start=10.3)\n",
    "\n",
    "    # Add markers\n",
    "    if boundary_icons:\n",
    "        location_markers = {\n",
    "            \"Sarca\": [45.87395405, 10.87087005],\n",
    "            \"Mincio\": [45.43259035, 10.7007715]\n",
    "        }\n",
    "        location_colors = {\n",
    "            \"Sarca\": \"red\",\n",
    "            \"Mincio\": \"green\"\n",
    "        }\n",
    "\n",
    "        for key in location_markers.keys():\n",
    "            folium.Marker(\n",
    "                location=location_markers[key],\n",
    "                tooltip=key,\n",
    "                icon=folium.Icon(color=location_colors[key])\n",
    "            ).add_to(geo_map)\n",
    "\n",
    "    # Return folium map\n",
    "    return geo_map"
   ]
  },
  {
   "cell_type": "code",
   "execution_count": null,
   "id": "double-breathing",
   "metadata": {},
   "outputs": [],
   "source": [
    "get_garda_geo_map()"
   ]
  },
  {
   "cell_type": "markdown",
   "id": "renewable-exploration",
   "metadata": {},
   "source": [
    "Read the file containing an approximation of the boundary of the lake from csv."
   ]
  },
  {
   "cell_type": "code",
   "execution_count": null,
   "id": "7894f348-e530-41f5-9938-758d9dddba62",
   "metadata": {},
   "outputs": [],
   "source": [
    "boundary_csv_filename = \"garda.csv\"\n",
    "if not os.path.isfile(boundary_csv_filename):\n",
    "    os.makedirs(\"data\", exist_ok=True)\n",
    "    boundary_csv_url = (\n",
    "        \"https://raw.githubusercontent.com/FEMlium/FEMlium/main/\"\n",
    "        \"tutorials/01_introduction/data/garda.csv\")\n",
    "    with urllib.request.urlopen(boundary_csv_url) as response, \\\n",
    "            open(boundary_csv_filename, \"wb\") as boundary_csv_file:\n",
    "        boundary_csv_file.write(response.read())"
   ]
  },
  {
   "cell_type": "code",
   "execution_count": null,
   "id": "planned-anniversary",
   "metadata": {},
   "outputs": [],
   "source": [
    "points_and_markers = np.loadtxt(\"garda.csv\", delimiter=\",\", skiprows=1)\n",
    "points = points_and_markers[:, 0:2]\n",
    "vertex_markers = points_and_markers[:, 2].astype(np.int64)\n",
    "segment_markers = np.array(\n",
    "    [min(vertex_markers[v], vertex_markers[v + 1]) for v in range(points.shape[0] - 1)], dtype=np.int64)"
   ]
  },
  {
   "cell_type": "markdown",
   "id": "decimal-twins",
   "metadata": {},
   "source": [
    "Plot the domain boundary using `matplotlib`."
   ]
  },
  {
   "cell_type": "code",
   "execution_count": null,
   "id": "fabulous-network",
   "metadata": {},
   "outputs": [],
   "source": [
    "fig = plt.figure(figsize=(12, 12))\n",
    "fig.gca().plot(points[:, 0], points[:, 1])\n",
    "fig.gca().axis(\"equal\")"
   ]
  },
  {
   "cell_type": "markdown",
   "id": "connected-knock",
   "metadata": {},
   "source": [
    "Read a further file containing a curve that corresponds to approximately 1000 m from the shoreline."
   ]
  },
  {
   "cell_type": "code",
   "execution_count": null,
   "id": "5641cdac-00f6-4fc1-bb7e-bec7c81d590a",
   "metadata": {},
   "outputs": [],
   "source": [
    "interface_csv_filename = \"garda_interface.csv\"\n",
    "if not os.path.isfile(interface_csv_filename):\n",
    "    os.makedirs(\"data\", exist_ok=True)\n",
    "    interface_csv_url = (\n",
    "        \"https://raw.githubusercontent.com/FEMlium/FEMlium/main/\"\n",
    "        \"tutorials/01_introduction/data/garda_interface.csv\")\n",
    "    with urllib.request.urlopen(interface_csv_url) as response, \\\n",
    "            open(interface_csv_filename, \"wb\") as interface_csv_file:\n",
    "        interface_csv_file.write(response.read())"
   ]
  },
  {
   "cell_type": "code",
   "execution_count": null,
   "id": "statewide-liberia",
   "metadata": {},
   "outputs": [],
   "source": [
    "points_inner = np.loadtxt(\"garda_interface.csv\", delimiter=\",\", skiprows=1)"
   ]
  },
  {
   "cell_type": "markdown",
   "id": "australian-groove",
   "metadata": {},
   "source": [
    "Plot the two curves with `matplotlib`."
   ]
  },
  {
   "cell_type": "code",
   "execution_count": null,
   "id": "impressive-casting",
   "metadata": {},
   "outputs": [],
   "source": [
    "fig = plt.figure(figsize=(12, 12))\n",
    "fig.gca().plot(points[:, 0], points[:, 1], \"blue\")\n",
    "fig.gca().plot(points_inner[:, 0], points_inner[:, 1], \"orange\")\n",
    "fig.gca().axis(\"equal\")"
   ]
  },
  {
   "cell_type": "markdown",
   "id": "separate-technology",
   "metadata": {},
   "source": [
    "Define a `pyproj` `Transformer` to map between different reference systems, because the points read from file are stored a $(x, y)$ pairs in the EPSG32632 reference system, while the map produced by `folium` is based on (latitude, longitude) pairs in the EPSG4326 reference system."
   ]
  },
  {
   "cell_type": "code",
   "execution_count": null,
   "id": "raised-brief",
   "metadata": {},
   "outputs": [],
   "source": [
    "transformer = pyproj.Transformer.from_crs(\"epsg:32632\", \"epsg:4326\", always_xy=True)"
   ]
  },
  {
   "cell_type": "markdown",
   "id": "proud-renewal",
   "metadata": {},
   "source": [
    "We define a domain plotter `femlium.DomainPlotter`."
   ]
  },
  {
   "cell_type": "code",
   "execution_count": null,
   "id": "warming-general",
   "metadata": {},
   "outputs": [],
   "source": [
    "domain_plotter = femlium.DomainPlotter(transformer)"
   ]
  },
  {
   "cell_type": "markdown",
   "id": "disabled-answer",
   "metadata": {},
   "source": [
    "We use the `domain_plotter` to draw the boundary of what will be the computational domain on top of the geographic map."
   ]
  },
  {
   "cell_type": "code",
   "execution_count": null,
   "id": "fallen-makeup",
   "metadata": {},
   "outputs": [],
   "source": [
    "geo_map = get_garda_geo_map()\n",
    "domain_plotter.add_domain_to(geo_map, points)\n",
    "geo_map"
   ]
  },
  {
   "cell_type": "markdown",
   "id": "backed-kitty",
   "metadata": {},
   "source": [
    "We may change the color and the weight of the line."
   ]
  },
  {
   "cell_type": "code",
   "execution_count": null,
   "id": "pacific-think",
   "metadata": {},
   "outputs": [],
   "source": [
    "geo_map = get_garda_geo_map()\n",
    "domain_plotter.add_domain_to(geo_map, points, colors=\"blue\", weights=3)\n",
    "geo_map"
   ]
  },
  {
   "cell_type": "markdown",
   "id": "middle-slovakia",
   "metadata": {},
   "source": [
    "Furthermore, we may set the colors and the weights of the boundary representation to depend on the markers associated to each segment. Such markers are typically used to set boundary labels for boundary conditions."
   ]
  },
  {
   "cell_type": "code",
   "execution_count": null,
   "id": "developing-routine",
   "metadata": {},
   "outputs": [],
   "source": [
    "geo_map = get_garda_geo_map(boundary_icons=True)\n",
    "colors = {\n",
    "    0: \"blue\",\n",
    "    1: \"red\",\n",
    "    2: \"green\"\n",
    "}\n",
    "weights = {\n",
    "    0: 2,\n",
    "    1: 5,\n",
    "    2: 5\n",
    "}\n",
    "domain_plotter.add_domain_to(geo_map, points, segment_markers, colors=colors, weights=weights)\n",
    "geo_map"
   ]
  },
  {
   "cell_type": "markdown",
   "id": "fewer-packet",
   "metadata": {},
   "source": [
    "We may also plot two curves on the same map."
   ]
  },
  {
   "cell_type": "code",
   "execution_count": null,
   "id": "speaking-messaging",
   "metadata": {},
   "outputs": [],
   "source": [
    "geo_map = get_garda_geo_map()\n",
    "domain_plotter.add_domain_to(geo_map, points, colors=\"blue\", weights=3)\n",
    "domain_plotter.add_domain_to(geo_map, points_inner, colors=\"orange\", weights=2)\n",
    "geo_map"
   ]
  },
  {
   "cell_type": "markdown",
   "id": "altered-keyboard",
   "metadata": {},
   "source": [
    "We then use `gmsh` to generate a triangular mesh, and save it to file."
   ]
  },
  {
   "cell_type": "code",
   "execution_count": null,
   "id": "ahead-description",
   "metadata": {},
   "outputs": [],
   "source": [
    "def generate_garda_mesh(\n",
    "    points: npt.NDArray[np.float64], segment_markers: npt.NDArray[np.int64],\n",
    "    points_inner: npt.NDArray[np.float64], h: float\n",
    ") -> None:\n",
    "    \"\"\"Generate an unstructured mesh of the Lake.\"\"\"\n",
    "    # Initialize gmsh\n",
    "    gmsh.initialize()\n",
    "    # Add model\n",
    "    gmsh.model.add(\"garda\")\n",
    "    # Add points associated to outer boundary\n",
    "    num_points = points.shape[0] - 1  # exclude the last point, because it is a copy of the first one\n",
    "    for p in range(num_points):\n",
    "        gmsh.model.geo.addPoint(points[p, 0], points[p, 1], 0.0)\n",
    "    # Add points associted to inner interface\n",
    "    num_points_inner = points_inner.shape[0] - 1  # exclude the last point, because it is a copy of the first one\n",
    "    for p in range(num_points_inner):\n",
    "        gmsh.model.geo.addPoint(points_inner[p, 0], points_inner[p, 1], 0.0)\n",
    "    # Add segments associated to outer boundary\n",
    "    lines = list()\n",
    "    boundary_labels = {\n",
    "        1: list(),  # shore\n",
    "        2: list(),  # inflow\n",
    "        3: list()   # outflow\n",
    "    }\n",
    "    for p in range(num_points):\n",
    "        point_p = p + 1\n",
    "        if point_p < num_points:\n",
    "            point_p_next = point_p + 1\n",
    "        else:\n",
    "            point_p_next = 1\n",
    "        segment = gmsh.model.geo.addLine(point_p, point_p_next)\n",
    "        lines.append(segment)\n",
    "        label = 1 + segment_markers[p]\n",
    "        label = round(label)\n",
    "        boundary_labels[label].append(segment)\n",
    "    # Add segments associated to inner interface\n",
    "    lines_inner = list()\n",
    "    for p in range(num_points_inner):\n",
    "        point_p = num_points + p + 1\n",
    "        if point_p < num_points + num_points_inner:\n",
    "            point_p_next = point_p + 1\n",
    "        else:\n",
    "            point_p_next = num_points + 1\n",
    "        segment = gmsh.model.geo.addLine(point_p, point_p_next)\n",
    "        lines_inner.append(segment)\n",
    "    # Add curve loops\n",
    "    boundary = gmsh.model.geo.addCurveLoop(lines)\n",
    "    interface = gmsh.model.geo.addCurveLoop(lines_inner)\n",
    "    # Add surfaces\n",
    "    near_shore = gmsh.model.geo.addPlaneSurface([boundary, interface])\n",
    "    far_from_shore = gmsh.model.geo.addPlaneSurface([interface])\n",
    "    # Synchronize\n",
    "    gmsh.model.geo.synchronize()\n",
    "    # Assign boundary labels\n",
    "    for (label, lines) in boundary_labels.items():\n",
    "        gmsh.model.addPhysicalGroup(1, lines, label)\n",
    "    # Assign subdomain labels\n",
    "    gmsh.model.addPhysicalGroup(2, [near_shore], 1)\n",
    "    gmsh.model.addPhysicalGroup(2, [far_from_shore], 2)\n",
    "    # We now define a Distance field, to measure the distance from the boundary\n",
    "    gmsh.model.mesh.field.add(\"Distance\", 1)\n",
    "    gmsh.model.mesh.field.setNumbers(1, \"PointsList\", np.arange(1, num_points + 1))\n",
    "    gmsh.model.mesh.field.setNumbers(1, \"CurvesList\", lines)\n",
    "    gmsh.model.mesh.field.setNumber(1, \"NumPointsPerCurve\", 1)\n",
    "    # We then define a Threshold field, which uses the return value of the\n",
    "    # Distance field 1 in order to define a simple change in element size\n",
    "    # depending on the computed distances\n",
    "    #\n",
    "    # SizeMax -                     /------------------\n",
    "    #                              /\n",
    "    #                             /\n",
    "    #                            /\n",
    "    # SizeMin -o----------------/\n",
    "    #          |                |    |\n",
    "    #        Point         DistMin  DistMax\n",
    "    gmsh.model.mesh.field.add(\"Threshold\", 2)\n",
    "    gmsh.model.mesh.field.setNumber(2, \"InField\", 1)\n",
    "    gmsh.model.mesh.field.setNumber(2, \"SizeMin\", h)\n",
    "    gmsh.model.mesh.field.setNumber(2, \"SizeMax\", 10 * h)\n",
    "    gmsh.model.mesh.field.setNumber(2, \"DistMin\", 600)\n",
    "    gmsh.model.mesh.field.setNumber(2, \"DistMax\", 6000)\n",
    "    # The mesh size should be derived from the second field, i.e. the Distance field\n",
    "    gmsh.model.mesh.field.setAsBackgroundMesh(2)\n",
    "    gmsh.option.setNumber(\"Mesh.MeshSizeExtendFromBoundary\", 0)\n",
    "    gmsh.option.setNumber(\"Mesh.MeshSizeFromPoints\", 0)\n",
    "    gmsh.option.setNumber(\"Mesh.MeshSizeFromCurvature\", 0)\n",
    "    # Generate mesh\n",
    "    gmsh.model.mesh.generate(2)\n",
    "    # Write out the mesh in gmsh format\n",
    "    msh_path = \"garda.msh\"\n",
    "    if os.path.exists(msh_path):\n",
    "        os.remove(msh_path)\n",
    "    gmsh.write(msh_path)\n",
    "    # Finalize\n",
    "    gmsh.finalize()"
   ]
  },
  {
   "cell_type": "code",
   "execution_count": null,
   "id": "german-guest",
   "metadata": {},
   "outputs": [],
   "source": [
    "generate_garda_mesh(points, segment_markers, points_inner, 300)"
   ]
  },
  {
   "cell_type": "markdown",
   "id": "removable-ballot",
   "metadata": {},
   "source": [
    "The mesh will be read in and displayed in one of the FEM backends available in `femlium`. See the notebooks in the parent folder."
   ]
  }
 ],
 "metadata": {
  "kernelspec": {
   "display_name": "Python 3 (ipykernel)",
   "language": "python",
   "name": "python3"
  },
  "language_info": {
   "codemirror_mode": {
    "name": "ipython"
   },
   "file_extension": ".py",
   "mimetype": "text/x-python",
   "name": "python",
   "nbconvert_exporter": "python"
  }
 },
 "nbformat": 4,
 "nbformat_minor": 5
}
