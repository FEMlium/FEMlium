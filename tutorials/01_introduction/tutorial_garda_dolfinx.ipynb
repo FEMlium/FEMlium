{
 "cells": [
  {
   "cell_type": "code",
   "execution_count": null,
   "id": "simplified-lending",
   "metadata": {},
   "outputs": [],
   "source": [
    "import numpy as np\n",
    "import pyproj\n",
    "import dolfinx\n",
    "import dolfinx.plot\n",
    "import pyvista\n",
    "import folium\n",
    "import femlium\n",
    "from utils import gmsh_to_fenicsx"
   ]
  },
  {
   "cell_type": "markdown",
   "id": "middle-angle",
   "metadata": {},
   "source": [
    "Auxiliary function to get a `folium` `Map` close to Lake Garda."
   ]
  },
  {
   "cell_type": "code",
   "execution_count": null,
   "id": "ranking-wales",
   "metadata": {},
   "outputs": [],
   "source": [
    "def get_garda_geo_map(boundary_icons=False):\n",
    "    # Add map close to Lake Garda\n",
    "    geo_map = folium.Map(location=[45.6389113, 10.7521368], zoom_start=10.3)\n",
    "\n",
    "    # Add markers\n",
    "    if boundary_icons:\n",
    "        location_markers = {\n",
    "            \"Sarca\": [45.87395405, 10.87087005],\n",
    "            \"Mincio\": [45.43259035, 10.7007715]\n",
    "        }\n",
    "        location_colors = {\n",
    "            \"Sarca\": \"red\",\n",
    "            \"Mincio\": \"green\"\n",
    "        }\n",
    "\n",
    "        for key in location_markers.keys():\n",
    "            folium.Marker(\n",
    "                location=location_markers[key],\n",
    "                tooltip=key,\n",
    "                icon=folium.Icon(color=location_colors[key])\n",
    "            ).add_to(geo_map)\n",
    "\n",
    "    # Return folium map\n",
    "    return geo_map"
   ]
  },
  {
   "cell_type": "code",
   "execution_count": null,
   "id": "joint-injury",
   "metadata": {},
   "outputs": [],
   "source": [
    "get_garda_geo_map()"
   ]
  },
  {
   "cell_type": "markdown",
   "id": "acknowledged-difference",
   "metadata": {},
   "source": [
    "Read the mesh, the subdomain markers and the boundary markers from file with `dolfinx`."
   ]
  },
  {
   "cell_type": "code",
   "execution_count": null,
   "id": "behind-grill",
   "metadata": {},
   "outputs": [],
   "source": [
    "mesh, subdomains, boundaries = gmsh_to_fenicsx(\"data/garda.msh\")"
   ]
  },
  {
   "cell_type": "markdown",
   "id": "divine-blackjack",
   "metadata": {},
   "source": [
    "Plot the mesh using `pyvista`."
   ]
  },
  {
   "cell_type": "code",
   "execution_count": null,
   "id": "cooperative-toyota",
   "metadata": {},
   "outputs": [],
   "source": [
    "def dolfinx_to_pyvista_mesh(mesh):\n",
    "    num_cells = mesh.topology.index_map(mesh.topology.dim).size_local\n",
    "    cell_entities = np.arange(num_cells, dtype=np.int32)\n",
    "    pyvista_cells, cell_types = dolfinx.plot.create_vtk_topology(mesh, mesh.topology.dim, cell_entities)\n",
    "    grid = pyvista.UnstructuredGrid(pyvista_cells, cell_types, mesh.geometry.x)\n",
    "    return grid"
   ]
  },
  {
   "cell_type": "code",
   "execution_count": null,
   "id": "enhanced-brake",
   "metadata": {},
   "outputs": [],
   "source": [
    "def pyvista_mesh_plot(mesh):\n",
    "    grid = dolfinx_to_pyvista_mesh(mesh)\n",
    "    plotter = pyvista.PlotterITK()\n",
    "    plotter.add_mesh(grid)\n",
    "    plotter.show()"
   ]
  },
  {
   "cell_type": "code",
   "execution_count": null,
   "id": "respiratory-ending",
   "metadata": {},
   "outputs": [],
   "source": [
    "pyvista_mesh_plot(mesh)"
   ]
  },
  {
   "cell_type": "markdown",
   "id": "secret-disease",
   "metadata": {},
   "source": [
    "Plot the subdomain markers using `pyvista`."
   ]
  },
  {
   "cell_type": "code",
   "execution_count": null,
   "id": "outer-preserve",
   "metadata": {},
   "outputs": [],
   "source": [
    "def pyvista_subdomains_plot(mesh, subdomains):\n",
    "    grid = dolfinx_to_pyvista_mesh(mesh)\n",
    "    grid.cell_arrays[\"Marker\"] = subdomains.values\n",
    "    grid.set_active_scalars(\"Marker\")\n",
    "    plotter = pyvista.PlotterITK()\n",
    "    plotter.add_mesh(grid)\n",
    "    plotter.show()"
   ]
  },
  {
   "cell_type": "code",
   "execution_count": null,
   "id": "fixed-shield",
   "metadata": {},
   "outputs": [],
   "source": [
    "pyvista_subdomains_plot(mesh, subdomains)"
   ]
  },
  {
   "cell_type": "markdown",
   "id": "robust-broadway",
   "metadata": {},
   "source": [
    "Define a `pyproj` `Transformer` to map between different reference systems, because the points read from file are stored a $(x, y)$ pairs in the EPSG32632 reference system, while the map produced by `folium` is based on (latitude, longitude) pairs in the EPSG4326 reference system."
   ]
  },
  {
   "cell_type": "code",
   "execution_count": null,
   "id": "frozen-archives",
   "metadata": {},
   "outputs": [],
   "source": [
    "transformer = pyproj.Transformer.from_crs(\"epsg:32632\", \"epsg:4326\", always_xy=True)"
   ]
  },
  {
   "cell_type": "markdown",
   "id": "rental-consequence",
   "metadata": {},
   "source": [
    "We define a mesh plotter for meshes in `dolfinx` format, which is implemented in `femlium.DolfinxPlotter`."
   ]
  },
  {
   "cell_type": "code",
   "execution_count": null,
   "id": "norman-ethernet",
   "metadata": {},
   "outputs": [],
   "source": [
    "dolfinx_plotter = femlium.DolfinxPlotter(transformer)"
   ]
  },
  {
   "cell_type": "markdown",
   "id": "received-headset",
   "metadata": {},
   "source": [
    "We use the `dolfinx_plotter` to draw the mesh on top of the geographic map."
   ]
  },
  {
   "cell_type": "code",
   "execution_count": null,
   "id": "sunset-communications",
   "metadata": {},
   "outputs": [],
   "source": [
    "geo_map = get_garda_geo_map()\n",
    "dolfinx_plotter.add_mesh_to(geo_map, mesh)\n",
    "geo_map"
   ]
  },
  {
   "cell_type": "markdown",
   "id": "induced-making",
   "metadata": {},
   "source": [
    "We may change the color and the weight of the line."
   ]
  },
  {
   "cell_type": "code",
   "execution_count": null,
   "id": "parallel-martial",
   "metadata": {},
   "outputs": [],
   "source": [
    "geo_map = get_garda_geo_map()\n",
    "dolfinx_plotter.add_mesh_to(geo_map, mesh, face_colors=\"red\", face_weights=2)\n",
    "geo_map"
   ]
  },
  {
   "cell_type": "markdown",
   "id": "stunning-relation",
   "metadata": {},
   "source": [
    "Furthermore, we may set the colors and the weights of the face representation to depend on the markers associated to each segment."
   ]
  },
  {
   "cell_type": "code",
   "execution_count": null,
   "id": "three-macedonia",
   "metadata": {},
   "outputs": [],
   "source": [
    "geo_map = get_garda_geo_map(boundary_icons=True)\n",
    "face_colors = {\n",
    "    0: \"gray\",\n",
    "    1: \"blue\",\n",
    "    2: \"red\",\n",
    "    3: \"green\"\n",
    "}\n",
    "face_weights = {\n",
    "    0: 1,\n",
    "    1: 2,\n",
    "    2: 5,\n",
    "    3: 5\n",
    "}\n",
    "dolfinx_plotter.add_mesh_to(\n",
    "    geo_map, mesh, face_mesh_tags=boundaries, face_colors=face_colors, face_weights=face_weights)\n",
    "geo_map"
   ]
  },
  {
   "cell_type": "markdown",
   "id": "willing-airline",
   "metadata": {},
   "source": [
    "Cells can be colored as well, with a uniform color or depending on the cell markers. We start from a uniform color."
   ]
  },
  {
   "cell_type": "code",
   "execution_count": null,
   "id": "south-palestine",
   "metadata": {},
   "outputs": [],
   "source": [
    "geo_map = get_garda_geo_map()\n",
    "dolfinx_plotter.add_mesh_to(geo_map, mesh, cell_colors=\"orange\")\n",
    "geo_map"
   ]
  },
  {
   "cell_type": "markdown",
   "id": "adolescent-account",
   "metadata": {},
   "source": [
    "We also show the case of colors being set from cell markers. There are two cell markers in this mesh, equal to 1 for the region close to the shoreline (colored in purple) and 2 for the rest of the domain (colored in yellow)."
   ]
  },
  {
   "cell_type": "code",
   "execution_count": null,
   "id": "southwest-american",
   "metadata": {},
   "outputs": [],
   "source": [
    "geo_map = get_garda_geo_map()\n",
    "cell_colors = {\n",
    "    1: \"purple\",\n",
    "    2: \"yellow\"\n",
    "}\n",
    "dolfinx_plotter.add_mesh_to(geo_map, mesh, cell_mesh_tags=subdomains, cell_colors=cell_colors)\n",
    "geo_map"
   ]
  },
  {
   "cell_type": "markdown",
   "id": "chicken-harmony",
   "metadata": {},
   "source": [
    "Once can use colors associated to both cell and face markers on the same plot. "
   ]
  },
  {
   "cell_type": "code",
   "execution_count": null,
   "id": "bright-guess",
   "metadata": {},
   "outputs": [],
   "source": [
    "geo_map = get_garda_geo_map(boundary_icons=True)\n",
    "dolfinx_plotter.add_mesh_to(\n",
    "    geo_map, mesh,\n",
    "    cell_mesh_tags=subdomains, face_mesh_tags=boundaries,\n",
    "    cell_colors=cell_colors, face_colors=face_colors, face_weights=face_weights)\n",
    "geo_map"
   ]
  },
  {
   "cell_type": "markdown",
   "id": "subsequent-lecture",
   "metadata": {},
   "source": [
    "In order to define a simple scalar field, we compute the centroid of the domain."
   ]
  },
  {
   "cell_type": "code",
   "execution_count": null,
   "id": "level-paste",
   "metadata": {},
   "outputs": [],
   "source": [
    "centroid = np.mean(mesh.geometry.x[:, :2], axis=0)"
   ]
  },
  {
   "cell_type": "markdown",
   "id": "static-inventory",
   "metadata": {},
   "source": [
    "We may plot the centroid on top of the mesh."
   ]
  },
  {
   "cell_type": "code",
   "execution_count": null,
   "id": "portuguese-bidding",
   "metadata": {},
   "outputs": [],
   "source": [
    "geo_map = get_garda_geo_map()\n",
    "dolfinx_plotter.add_mesh_to(geo_map, mesh)\n",
    "folium.Marker(location=transformer.transform(*centroid)[::-1], tooltip=\"Centroid\").add_to(geo_map)\n",
    "geo_map"
   ]
  },
  {
   "cell_type": "markdown",
   "id": "smooth-coalition",
   "metadata": {},
   "source": [
    "The scalar field is defined as $s(\\rho, \\theta) = \\frac{\\rho}{\\sqrt{1 - 0.5 \\cos^2 \\theta}}$, and is interpolated on a $\\mathbb{P}^2$ finite element space. Here $(\\rho, \\theta)$ are the polar coordinates centered at the centroid."
   ]
  },
  {
   "cell_type": "code",
   "execution_count": null,
   "id": "fossil-queen",
   "metadata": {},
   "outputs": [],
   "source": [
    "scalar_function_space = dolfinx.FunctionSpace(mesh, (\"CG\", 2))"
   ]
  },
  {
   "cell_type": "code",
   "execution_count": null,
   "id": "contained-shock",
   "metadata": {},
   "outputs": [],
   "source": [
    "def scalar_field_eval(x):\n",
    "    rho = np.sqrt((x[0] - centroid[0])**2 + (x[1] - centroid[1])**2)\n",
    "    theta = np.arctan2(x[1] - centroid[1], x[0] - centroid[0])\n",
    "    return rho / np.sqrt(1 - 0.5 * np.cos(theta)**2)"
   ]
  },
  {
   "cell_type": "code",
   "execution_count": null,
   "id": "victorian-details",
   "metadata": {},
   "outputs": [],
   "source": [
    "scalar_field = dolfinx.Function(scalar_function_space)\n",
    "scalar_field.interpolate(scalar_field_eval)"
   ]
  },
  {
   "cell_type": "markdown",
   "id": "cubic-clinton",
   "metadata": {},
   "source": [
    "We next show a filled contour plot using `pyvista`."
   ]
  },
  {
   "cell_type": "code",
   "execution_count": null,
   "id": "agreed-hungary",
   "metadata": {},
   "outputs": [],
   "source": [
    "def pyvista_scalar_field_plot(mesh, scalar_field):\n",
    "    grid = dolfinx_to_pyvista_mesh(mesh)\n",
    "    grid.point_arrays[\"Scalar field\"] = scalar_field.compute_point_values()\n",
    "    grid.set_active_scalars(\"Scalar field\")\n",
    "    plotter = pyvista.PlotterITK()\n",
    "    plotter.add_mesh(grid)\n",
    "    plotter.show()"
   ]
  },
  {
   "cell_type": "code",
   "execution_count": null,
   "id": "stylish-omaha",
   "metadata": {},
   "outputs": [],
   "source": [
    "pyvista_scalar_field_plot(mesh, scalar_field)"
   ]
  },
  {
   "cell_type": "markdown",
   "id": "alleged-cholesterol",
   "metadata": {},
   "source": [
    "In order to plot a field on a geographic map, we use again the `dolfinx_plotter`. We may plot a filled contour plot on the geographic map."
   ]
  },
  {
   "cell_type": "code",
   "execution_count": null,
   "id": "outdoor-rover",
   "metadata": {},
   "outputs": [],
   "source": [
    "geo_map = get_garda_geo_map()\n",
    "dolfinx_plotter.add_scalar_field_to(geo_map, scalar_field, mode=\"contourf\", levels=15, cmap=\"jet\")\n",
    "geo_map"
   ]
  },
  {
   "cell_type": "markdown",
   "id": "comic-noise",
   "metadata": {},
   "source": [
    "Similarly, we can also use (unfilled) contour plots."
   ]
  },
  {
   "cell_type": "code",
   "execution_count": null,
   "id": "played-buffer",
   "metadata": {},
   "outputs": [],
   "source": [
    "geo_map = get_garda_geo_map()\n",
    "dolfinx_plotter.add_scalar_field_to(geo_map, scalar_field, mode=\"contour\", levels=15, cmap=\"jet\")\n",
    "geo_map"
   ]
  },
  {
   "cell_type": "markdown",
   "id": "bronze-biodiversity",
   "metadata": {},
   "source": [
    "One may also combine mesh plots and solution plots."
   ]
  },
  {
   "cell_type": "code",
   "execution_count": null,
   "id": "yellow-permit",
   "metadata": {},
   "outputs": [],
   "source": [
    "geo_map = get_garda_geo_map()\n",
    "dolfinx_plotter.add_mesh_to(geo_map, mesh, face_colors=\"grey\")\n",
    "dolfinx_plotter.add_scalar_field_to(geo_map, scalar_field, mode=\"contour\", levels=15, cmap=\"jet\")\n",
    "geo_map"
   ]
  },
  {
   "cell_type": "markdown",
   "id": "danish-proportion",
   "metadata": {},
   "source": [
    "We next define a vector field $\\mathbf{v}(\\rho, \\theta) = \\begin{bmatrix}-\\rho \\sin \\theta\\\\\\rho \\cos\\theta \\end{bmatrix}$."
   ]
  },
  {
   "cell_type": "code",
   "execution_count": null,
   "id": "positive-austin",
   "metadata": {},
   "outputs": [],
   "source": [
    "vector_function_space = dolfinx.VectorFunctionSpace(mesh, (\"CG\", 2))"
   ]
  },
  {
   "cell_type": "code",
   "execution_count": null,
   "id": "indie-discretion",
   "metadata": {},
   "outputs": [],
   "source": [
    "def vector_field_eval(x):\n",
    "    rho = np.sqrt((x[0] - centroid[0])**2 + (x[1] - centroid[1])**2)\n",
    "    theta = np.arctan2(x[1] - centroid[1], x[0] - centroid[0])\n",
    "    values = np.zeros((2, x.shape[1]))\n",
    "    values[0] = - rho * np.sin(theta)\n",
    "    values[1] = rho * np.cos(theta)\n",
    "    return values"
   ]
  },
  {
   "cell_type": "code",
   "execution_count": null,
   "id": "large-riding",
   "metadata": {},
   "outputs": [],
   "source": [
    "vector_field = dolfinx.Function(vector_function_space)\n",
    "vector_field.interpolate(vector_field_eval)"
   ]
  },
  {
   "cell_type": "markdown",
   "id": "international-letters",
   "metadata": {},
   "source": [
    "We first see a plot obtained with `pyvista`, which shows both the magnitude of the vector field and its representation using glyphs."
   ]
  },
  {
   "cell_type": "code",
   "execution_count": null,
   "id": "fifteen-vegetable",
   "metadata": {},
   "outputs": [],
   "source": [
    "def pyvista_vector_field_plot(mesh, vector_field):\n",
    "    grid = dolfinx_to_pyvista_mesh(mesh)\n",
    "    values = np.zeros((mesh.geometry.x.shape[0], 3))\n",
    "    values[:, :2] = vector_field.compute_point_values()\n",
    "    grid.point_arrays[\"Vector field\"] = values\n",
    "    grid.set_active_vectors(\"Vector field\")\n",
    "    plotter = pyvista.PlotterITK()\n",
    "    plotter.add_mesh(grid)\n",
    "    glyphs = grid.glyph(orient=\"Vector field\", factor=1e-1)\n",
    "    plotter.add_mesh(glyphs)\n",
    "    plotter.show()"
   ]
  },
  {
   "cell_type": "code",
   "execution_count": null,
   "id": "premium-hardware",
   "metadata": {},
   "outputs": [],
   "source": [
    "pyvista_vector_field_plot(mesh, vector_field)"
   ]
  },
  {
   "cell_type": "markdown",
   "id": "married-virtue",
   "metadata": {},
   "source": [
    "We may obtain contourf or contour plots of the magnitude of the vector field."
   ]
  },
  {
   "cell_type": "code",
   "execution_count": null,
   "id": "oriental-edinburgh",
   "metadata": {},
   "outputs": [],
   "source": [
    "geo_map = get_garda_geo_map()\n",
    "dolfinx_plotter.add_vector_field_to(geo_map, vector_field, mode=\"contourf\", levels=15, cmap=\"jet\")\n",
    "geo_map"
   ]
  },
  {
   "cell_type": "code",
   "execution_count": null,
   "id": "rolled-asthma",
   "metadata": {},
   "outputs": [],
   "source": [
    "geo_map = get_garda_geo_map()\n",
    "dolfinx_plotter.add_vector_field_to(geo_map, vector_field, mode=\"contour\", levels=15, cmap=\"jet\")\n",
    "geo_map"
   ]
  },
  {
   "cell_type": "markdown",
   "id": "growing-terrorist",
   "metadata": {},
   "source": [
    "Also a quiver plot can rendered on top of the geographic map."
   ]
  },
  {
   "cell_type": "code",
   "execution_count": null,
   "id": "pursuant-restaurant",
   "metadata": {},
   "outputs": [],
   "source": [
    "geo_map = get_garda_geo_map()\n",
    "dolfinx_plotter.add_vector_field_to(geo_map, vector_field, mode=\"quiver\", scale=1e-1, cmap=\"jet\")\n",
    "geo_map"
   ]
  }
 ],
 "metadata": {
  "kernelspec": {
   "display_name": "Python 3",
   "language": "python",
   "name": "python3"
  },
  "language_info": {
   "codemirror_mode": {
    "name": "ipython"
   },
   "file_extension": ".py",
   "mimetype": "text/x-python",
   "name": "python",
   "nbconvert_exporter": "python"
  }
 },
 "nbformat": 4,
 "nbformat_minor": 5
}
