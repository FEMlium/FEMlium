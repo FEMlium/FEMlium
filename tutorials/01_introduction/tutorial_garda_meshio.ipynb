{
 "cells": [
  {
   "cell_type": "code",
   "execution_count": null,
   "id": "simplified-lending",
   "metadata": {},
   "outputs": [],
   "source": [
    "import matplotlib.pyplot as plt\n",
    "import pyproj\n",
    "import meshio\n",
    "import folium\n",
    "import femlium"
   ]
  },
  {
   "cell_type": "markdown",
   "id": "middle-angle",
   "metadata": {},
   "source": [
    "Auxiliary function to get a `folium` `Map` close to Lake Garda."
   ]
  },
  {
   "cell_type": "code",
   "execution_count": null,
   "id": "ranking-wales",
   "metadata": {},
   "outputs": [],
   "source": [
    "def get_garda_geo_map(boundary_icons=False):\n",
    "    # Add map close to Lake Garda\n",
    "    geo_map = folium.Map(location=[45.6389113, 10.7521368], zoom_start=10.3)\n",
    "\n",
    "    # Add markers\n",
    "    if boundary_icons:\n",
    "        location_markers = {\n",
    "            \"Sarca\": [45.87395405, 10.87087005],\n",
    "            \"Mincio\": [45.43259035, 10.7007715]\n",
    "        }\n",
    "        location_colors = {\n",
    "            \"Sarca\": \"red\",\n",
    "            \"Mincio\": \"green\"\n",
    "        }\n",
    "\n",
    "        for key in location_markers.keys():\n",
    "            folium.Marker(\n",
    "                location=location_markers[key],\n",
    "                tooltip=key,\n",
    "                icon=folium.Icon(color=location_colors[key])\n",
    "            ).add_to(geo_map)\n",
    "\n",
    "    # Return folium map\n",
    "    return geo_map"
   ]
  },
  {
   "cell_type": "code",
   "execution_count": null,
   "id": "joint-injury",
   "metadata": {},
   "outputs": [],
   "source": [
    "get_garda_geo_map()"
   ]
  },
  {
   "cell_type": "markdown",
   "id": "acknowledged-difference",
   "metadata": {},
   "source": [
    "Read the mesh from file with `meshio`."
   ]
  },
  {
   "cell_type": "code",
   "execution_count": null,
   "id": "behind-grill",
   "metadata": {},
   "outputs": [],
   "source": [
    "mesh = meshio.read(\"data/garda.msh\")"
   ]
  },
  {
   "cell_type": "markdown",
   "id": "divine-blackjack",
   "metadata": {},
   "source": [
    "Plot the mesh using `matplotlib`."
   ]
  },
  {
   "cell_type": "code",
   "execution_count": null,
   "id": "enhanced-brake",
   "metadata": {},
   "outputs": [],
   "source": [
    "fig = plt.figure(figsize=(12, 12))\n",
    "fig.gca().triplot(mesh.points[:, 0], mesh.points[:, 1], mesh.cells_dict[\"triangle\"])\n",
    "fig.gca().axis(\"equal\")"
   ]
  },
  {
   "cell_type": "markdown",
   "id": "robust-broadway",
   "metadata": {},
   "source": [
    "Define a `pyproj` `Transformer` to map between different reference systems, because the points read from file are stored a $(x, y)$ pairs in the EPSG32632 reference system, while the map produced by `folium` is based on (latitude, longitude) pairs in the EPSG4326 reference system."
   ]
  },
  {
   "cell_type": "code",
   "execution_count": null,
   "id": "frozen-archives",
   "metadata": {},
   "outputs": [],
   "source": [
    "transformer = pyproj.Transformer.from_crs(\"epsg:32632\", \"epsg:4326\", always_xy=True)"
   ]
  },
  {
   "cell_type": "markdown",
   "id": "rental-consequence",
   "metadata": {},
   "source": [
    "We define a mesh plotter for meshes in `meshio` format, which is implemented in `femlium.MeshioPlotter`."
   ]
  },
  {
   "cell_type": "code",
   "execution_count": null,
   "id": "norman-ethernet",
   "metadata": {},
   "outputs": [],
   "source": [
    "mesh_plotter = femlium.MeshioPlotter(transformer)"
   ]
  },
  {
   "cell_type": "markdown",
   "id": "received-headset",
   "metadata": {},
   "source": [
    "We use the `mesh_plotter` to draw the mesh on top of the geographic map."
   ]
  },
  {
   "cell_type": "code",
   "execution_count": null,
   "id": "sunset-communications",
   "metadata": {},
   "outputs": [],
   "source": [
    "geo_map = get_garda_geo_map()\n",
    "mesh_plotter.add_mesh_to(geo_map, mesh)\n",
    "geo_map"
   ]
  },
  {
   "cell_type": "markdown",
   "id": "induced-making",
   "metadata": {},
   "source": [
    "We may change the color and the weight of the line."
   ]
  },
  {
   "cell_type": "code",
   "execution_count": null,
   "id": "parallel-martial",
   "metadata": {},
   "outputs": [],
   "source": [
    "geo_map = get_garda_geo_map()\n",
    "mesh_plotter.add_mesh_to(geo_map, mesh, face_colors=\"red\", face_weights=2)\n",
    "geo_map"
   ]
  },
  {
   "cell_type": "markdown",
   "id": "stunning-relation",
   "metadata": {},
   "source": [
    "Furthermore, we may set the colors and the weights of the face representation to depend on the markers associated to each segment."
   ]
  },
  {
   "cell_type": "code",
   "execution_count": null,
   "id": "three-macedonia",
   "metadata": {},
   "outputs": [],
   "source": [
    "geo_map = get_garda_geo_map(boundary_icons=True)\n",
    "face_colors = {\n",
    "    0: \"gray\",\n",
    "    1: \"blue\",\n",
    "    2: \"red\",\n",
    "    3: \"green\"\n",
    "}\n",
    "face_weights = {\n",
    "    0: 1,\n",
    "    1: 2,\n",
    "    2: 5,\n",
    "    3: 5\n",
    "}\n",
    "mesh_plotter.add_mesh_to(geo_map, mesh, face_colors=face_colors, face_weights=face_weights)\n",
    "geo_map"
   ]
  },
  {
   "cell_type": "markdown",
   "id": "willing-airline",
   "metadata": {},
   "source": [
    "Cells can be colored as well, with a uniform color or depending on the cell markers. We start from a uniform color."
   ]
  },
  {
   "cell_type": "code",
   "execution_count": null,
   "id": "south-palestine",
   "metadata": {},
   "outputs": [],
   "source": [
    "geo_map = get_garda_geo_map()\n",
    "mesh_plotter.add_mesh_to(geo_map, mesh, cell_colors=\"orange\")\n",
    "geo_map"
   ]
  },
  {
   "cell_type": "markdown",
   "id": "adolescent-account",
   "metadata": {},
   "source": [
    "We also show the case of colors being set from cell markers. Theare two cell markers in this mesh, equal to 1 for the region close to the shoreline (colored in purple) and 2 for the rest of the domain (colored in yellow)."
   ]
  },
  {
   "cell_type": "code",
   "execution_count": null,
   "id": "southwest-american",
   "metadata": {},
   "outputs": [],
   "source": [
    "geo_map = get_garda_geo_map()\n",
    "cell_colors = {\n",
    "    1: \"purple\",\n",
    "    2: \"yellow\"\n",
    "}\n",
    "mesh_plotter.add_mesh_to(geo_map, mesh, cell_colors=cell_colors)\n",
    "geo_map"
   ]
  },
  {
   "cell_type": "markdown",
   "id": "chicken-harmony",
   "metadata": {},
   "source": [
    "Once can use colors associated to both cell and face markers on the same plot. "
   ]
  },
  {
   "cell_type": "code",
   "execution_count": null,
   "id": "bright-guess",
   "metadata": {},
   "outputs": [],
   "source": [
    "geo_map = get_garda_geo_map(boundary_icons=True)\n",
    "mesh_plotter.add_mesh_to(\n",
    "    geo_map, mesh, cell_colors=cell_colors, face_colors=face_colors, face_weights=face_weights)\n",
    "geo_map"
   ]
  }
 ],
 "metadata": {
  "kernelspec": {
   "display_name": "Python 3",
   "language": "python",
   "name": "python3"
  },
  "language_info": {
   "codemirror_mode": {
    "name": "ipython"
   },
   "file_extension": ".py",
   "mimetype": "text/x-python",
   "name": "python",
   "nbconvert_exporter": "python"
  }
 },
 "nbformat": 4,
 "nbformat_minor": 5
}
